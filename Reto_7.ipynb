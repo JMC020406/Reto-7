{
 "cells": [
  {
   "cell_type": "markdown",
   "metadata": {},
   "source": [
    "# RETO 7\n",
    "#### Bucles 1"
   ]
  },
  {
   "cell_type": "markdown",
   "metadata": {},
   "source": [
    "### Punto 1 / Listado del 1 al 100 y sus cuadrados"
   ]
  },
  {
   "cell_type": "code",
   "execution_count": null,
   "metadata": {},
   "outputs": [],
   "source": [
    "def cuadradonumero (i=int)->int:\n",
    "    return (i**2)\n",
    "\n",
    "#numero del 1 al 100 y sus cuadrados\n",
    "\n",
    "if __name__ == \"__main__\":\n",
    "\n",
    "    i:int=1\n",
    "\n",
    "print(\"Lista de numeros del 1 al 100 y sus cuadrados:\")\n",
    "print(\"INICIO\")\n",
    "\n",
    "while i<=100:\n",
    "    cuadrado=cuadradonumero(i)\n",
    "    print(str(i)+\" , \"+str(cuadrado))\n",
    "    i+=1\n",
    "\n",
    "print (\"FIN\")"
   ]
  },
  {
   "cell_type": "markdown",
   "metadata": {},
   "source": [
    "### Punto 2 / Listado Pares e Impares del 1 al 1000"
   ]
  },
  {
   "cell_type": "code",
   "execution_count": null,
   "metadata": {},
   "outputs": [],
   "source": [
    "#listado de numeros impares y pares\n",
    "\n",
    "i:int=1\n",
    "\n",
    "print(\"Listado de numeros impares del 1 hasta el 999:\")\n",
    "print(\"INICIO\")\n",
    "\n",
    "while i<1000:\n",
    "    if i % 2 != 0:\n",
    "        print(str(i))\n",
    "    i += 1\n",
    "\n",
    "print(\"FIN\")\n",
    "\n",
    "i -= 998\n",
    "\n",
    "print(\"Listado de numeros pares del 2 hasta el 1000:\")\n",
    "print(\"INICIO\")\n",
    "\n",
    "while i<=1000:\n",
    "    if i % 2 == 0:\n",
    "        print(str(i))\n",
    "    i += 1\n",
    "\n",
    "print(\"FIN\")"
   ]
  },
  {
   "cell_type": "markdown",
   "metadata": {},
   "source": [
    "### Punto 3 / Listado descendente de numeros pares hasta el 2"
   ]
  },
  {
   "cell_type": "code",
   "execution_count": null,
   "metadata": {},
   "outputs": [],
   "source": [
    "#listado descendente de numero pares desde un n hasta el 2\n",
    "\n",
    "n=int(input(\"Ingrese un numero natural: \"))\n",
    "\n",
    "print(\"Listado de numeros pares descendentemente desde \"+str(n)+\" hasta 2:\")\n",
    "print(\"INICIO\")\n",
    "\n",
    "while n>=2:\n",
    "    if n % 2 == 0:\n",
    "        print(n)\n",
    "    n -= 1\n",
    "\n",
    "print(\"FIN\")"
   ]
  },
  {
   "cell_type": "markdown",
   "metadata": {},
   "source": [
    "### Punto 4 / Población del país A y B"
   ]
  },
  {
   "cell_type": "code",
   "execution_count": null,
   "metadata": {},
   "outputs": [],
   "source": [
    "def crecimiento_A(poblacionA=int)->int:\n",
    "    return (poblacionA*(2/100))\n",
    "\n",
    "def crecimiento_B(poblacionB=int)->int:\n",
    "    return (poblacionB*(3/100))\n",
    "\n",
    "if __name__ == \"__main__\":\n",
    "\n",
    "    poblacionA:int=25000000\n",
    "    poblacionB:int=18900000\n",
    "    i:int=1\n",
    "\n",
    "    crecimientoA=crecimiento_A(poblacionA)\n",
    "    crecimientoB=crecimiento_B(poblacionB)\n",
    "\n",
    "while poblacionA > poblacionB:\n",
    "    poblacionA += crecimientoA\n",
    "    poblacionB += crecimientoB\n",
    "    i += 1\n",
    "\n",
    "print(\"En el año en el que la poblacion B pasa a la poblacion A es en el año \"+str(i)+\" donde la poblacion B es de \"+str(poblacionB)+\" y la de A es de \"+str(poblacionA))"
   ]
  },
  {
   "cell_type": "markdown",
   "metadata": {},
   "source": [
    "### Punto 5 / El factorial de un número n"
   ]
  },
  {
   "cell_type": "code",
   "execution_count": null,
   "metadata": {},
   "outputs": [],
   "source": [
    "num=int(input(\"Ingrese el numero natural del cual quiere saber su factorial: \"))\n",
    "i:int=1\n",
    "factorial:int=1\n",
    "\n",
    "while i <= num:\n",
    "    factorial *= i\n",
    "    i += 1\n",
    "\n",
    "print(\"El factorial de \"+str(num)+\" es \"+str(factorial))"
   ]
  },
  {
   "cell_type": "markdown",
   "metadata": {},
   "source": [
    "### Punto 6 / Adivinanza de un número del 1 al 100"
   ]
  },
  {
   "cell_type": "code",
   "execution_count": null,
   "metadata": {},
   "outputs": [],
   "source": [
    "pregunta_1 : bool = 0\n",
    "adivinanza : int = 50\n",
    "limite_inferior: int = 1\n",
    "limite_superior: int = 100\n",
    "\n",
    "bandera : bool = True\n",
    "while bandera or pregunta_1 != 0: \n",
    "  bandera = False\n",
    "  pregunta_1 = int(input(\"Es \"+str(adivinanza)+\" tu numero? SI = 0 , ES MAYOR = 1 y ES MENOR = 2: \"))\n",
    "  if pregunta_1 == 1 and (limite_superior - limite_inferior) > 10:\n",
    "    limite_inferior = adivinanza\n",
    "    adivinanza += 9\n",
    "  elif pregunta_1 == 1 and (limite_superior - limite_inferior) < 10:\n",
    "    limite_inferior = adivinanza\n",
    "    adivinanza += 1\n",
    "  elif pregunta_1 == 2 and (limite_superior - limite_inferior) > 10:\n",
    "    limite_superior = adivinanza\n",
    "    adivinanza -= 8\n",
    "  elif pregunta_1 == 2 and (limite_superior - limite_inferior) < 10:\n",
    "    limite_superior = adivinanza\n",
    "    adivinanza -= 1\n",
    "\n",
    "print(\"Tu numero es el \"+str(adivinanza))"
   ]
  },
  {
   "cell_type": "markdown",
   "metadata": {},
   "source": [
    "### Punto 7 / Divisores de un número del 2 al 50"
   ]
  },
  {
   "cell_type": "code",
   "execution_count": null,
   "metadata": {},
   "outputs": [],
   "source": [
    "dividendo=int(input(\"Ingrese un numero natural del 2 al 50: \"))\n",
    "divisor:int=1\n",
    "\n",
    "print(\"Los divisores del numero \"+str(dividendo)+\" son:\")\n",
    "\n",
    "while dividendo>=2 and dividendo<=50:\n",
    "    if dividendo%divisor == 0:\n",
    "        print(divisor)\n",
    "    divisor += 1\n",
    "\n",
    "print(\"FIN\")"
   ]
  },
  {
   "cell_type": "markdown",
   "metadata": {},
   "source": [
    "### Punto 8 / Listado de números primos del 1 al 100"
   ]
  },
  {
   "cell_type": "code",
   "execution_count": null,
   "metadata": {},
   "outputs": [],
   "source": [
    "limite=int(input(\"Ingrese hasta el numero que quiera saber la cantidad de primos que hay: \"))\n",
    "num:int=1\n",
    "div:int=2\n",
    "cont = 1 \n",
    "\n",
    "if num == 1:\n",
    "    num += 1\n",
    "    print(num) \n",
    "\n",
    "elif num == 2:\n",
    "    num += 1\n",
    "\n",
    "while num < limite:\n",
    "    if num%div != 0:\n",
    "        if div < num-1:\n",
    "            div += 1\n",
    "\n",
    "        elif div == num-1:\n",
    "            div = 2\n",
    "            print(num)\n",
    "            num += 1\n",
    "            cont += 1\n",
    "\n",
    "    elif num%div == 0:\n",
    "        num += 1\n",
    "        div = 2\n",
    "\n",
    "print(\"Cantidad primos:\"+str(cont))"
   ]
  }
 ],
 "metadata": {
  "kernelspec": {
   "display_name": "Python 3",
   "language": "python",
   "name": "python3"
  },
  "language_info": {
   "name": "python",
   "version": "3.11.8"
  }
 },
 "nbformat": 4,
 "nbformat_minor": 2
}
